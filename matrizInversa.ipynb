{
 "cells": [
  {
   "cell_type": "code",
   "execution_count": 10,
   "metadata": {},
   "outputs": [
    {
     "name": "stdout",
     "output_type": "stream",
     "text": [
      "The autoreload extension is already loaded. To reload it, use:\n",
      "  %reload_ext autoreload\n"
     ]
    }
   ],
   "source": [
    "%load_ext autoreload\n",
    "# %autoreload 2"
   ]
  },
  {
   "cell_type": "code",
   "execution_count": 11,
   "metadata": {},
   "outputs": [
    {
     "name": "stdout",
     "output_type": "stream",
     "text": [
      "[02-06 12:01:25][INFO] DELL| 2025-02-06 12:01:25.287735\n"
     ]
    }
   ],
   "source": [
    "import logging\n",
    "from sys import stdout\n",
    "from datetime import datetime\n",
    "import numpy as np\n",
    "import os\n",
    "\n",
    "logging.basicConfig(\n",
    "    level=logging.INFO,\n",
    "    format=\"[%(asctime)s][%(levelname)s] %(message)s\",\n",
    "    stream=stdout,\n",
    "    datefmt=\"%m-%d %H:%M:%S\",\n",
    ")\n",
    "\n",
    "logging.info(f\"{os.getlogin()}| {datetime.now()}\")"
   ]
  },
  {
   "cell_type": "code",
   "execution_count": 19,
   "metadata": {},
   "outputs": [],
   "source": [
    "def gauss_jordan(Ab: np.ndarray) -> np.ndarray:\n",
    "    Ab = Ab.astype(float)\n",
    "    m, n_plus_1 = Ab.shape\n",
    "    n = n_plus_1 - 1\n",
    "\n",
    "    for i in range(n):\n",
    "        # Encontrar y verificar el pivote en la posición (i, i)\n",
    "        pivot = Ab[i, i]\n",
    "        if np.isclose(pivot, 0):\n",
    "            raise ValueError(\"Pivote cercano a cero en la fila {}\".format(i))\n",
    "        Ab[i, :] = Ab[i, :] / pivot\n",
    "        for j in range(m):\n",
    "            if j != i:\n",
    "                factor = Ab[j, i]\n",
    "                Ab[j, :] = Ab[j, :] - factor * Ab[i, :]\n",
    "\n",
    "    return Ab[:, -1].copy()"
   ]
  },
  {
   "cell_type": "code",
   "execution_count": 42,
   "metadata": {},
   "outputs": [
    {
     "data": {
      "text/plain": [
       "array([ 3., -6.,  6., -2.])"
      ]
     },
     "execution_count": 42,
     "metadata": {},
     "output_type": "execute_result"
    }
   ],
   "source": [
    "%autoreload 2\n",
    "from src import matriz_aumentada\n",
    "\n",
    "A = [\n",
    "    [1, 2, 3, 4],\n",
    "    [2, 5, 6, 7],\n",
    "    [3, 6, 8, 9],\n",
    "    [4, 7, 9, 10],\n",
    "]\n",
    "b = [1, -2, 3, 4]\n",
    "\n",
    "Ab = matriz_aumentada(A, b)\n",
    "gauss_jordan(Ab)"
   ]
  },
  {
   "cell_type": "markdown",
   "metadata": {},
   "source": [
    "# Resolver"
   ]
  },
  {
   "cell_type": "code",
   "execution_count": 50,
   "metadata": {},
   "outputs": [],
   "source": [
    "def inv_matrix(A: np.ndarray) -> np.ndarray:\n",
    "    A = np.array(A, dtype=float)\n",
    "    n = A.shape[0]\n",
    "    A_inv = np.zeros((n, n), dtype=float)\n",
    "    for i in range(n):\n",
    "        b = np.eye(n, dtype=float)[:, i]\n",
    "        Aug = matriz_aumentada(A, b)\n",
    "        \n",
    "        for j in range(n):\n",
    "            max_row = j + np.argmax(np.abs(Aug[j:, j]))\n",
    "            if np.isclose(Aug[max_row, j], 0):\n",
    "                raise ValueError(f\"No se puede invertir: pivote cero en columna {j}.\")\n",
    "            # Intercambiar filas si es necesario\n",
    "            if max_row != j:\n",
    "                Aug[[j, max_row]] = Aug[[max_row, j]]\n",
    "            \n",
    "            # Normalizar la fila pivote\n",
    "            pivot = Aug[j, j]\n",
    "            Aug[j, :] = Aug[j, :] / pivot\n",
    "            \n",
    "            # Eliminar la variable en la columna j de las otras filas\n",
    "            for k in range(n):\n",
    "                if k != j:\n",
    "                    factor = Aug[k, j]\n",
    "                    Aug[k, :] = Aug[k, :] - factor * Aug[j, :]\n",
    "        \n",
    "        # La última columna de la matriz aumentada es la solución para este e_i\n",
    "        A_inv[:, i] = Aug[:, -1]\n",
    "    \n",
    "    return A_inv"
   ]
  },
  {
   "cell_type": "markdown",
   "metadata": {},
   "source": [
    "## Ejemplos\n",
    "* Ejemplo 1"
   ]
  },
  {
   "cell_type": "code",
   "execution_count": 51,
   "metadata": {},
   "outputs": [
    {
     "data": {
      "text/plain": [
       "array([[ 0.5, -0.5, -1.5,  1.5],\n",
       "       [-0.5,  1.5, -1.5,  0.5],\n",
       "       [-1.5, -1.5,  3.5, -1.5],\n",
       "       [ 1.5,  0.5, -1.5,  0.5]])"
      ]
     },
     "execution_count": 51,
     "metadata": {},
     "output_type": "execute_result"
    }
   ],
   "source": [
    "# La matriz A =\n",
    "A = [\n",
    "    [1, 2, 3, 4],\n",
    "    [2, 5, 6, 7],\n",
    "    [3, 6, 8, 9],\n",
    "    [4, 7, 9, 10],\n",
    "]\n",
    "# tiene como inversa\n",
    "# A_inv =[[ 0.5, -0.5, -1.5,  1.5],\n",
    "#        [-0.5,  1.5, -1.5,  0.5],\n",
    "#        [-1.5, -1.5,  3.5, -1.5],\n",
    "#        [ 1.5,  0.5, -1.5,  0.5]]\n",
    "inv_matrix(A)"
   ]
  },
  {
   "cell_type": "markdown",
   "metadata": {},
   "source": [
    "* Ejemplo 2"
   ]
  },
  {
   "cell_type": "code",
   "execution_count": 52,
   "metadata": {},
   "outputs": [
    {
     "data": {
      "text/plain": [
       "array([[-34.,  31.,  52., -20.],\n",
       "       [ 19., -17., -29.,  11.],\n",
       "       [ 12., -11., -18.,   7.],\n",
       "       [  1.,  -1.,  -2.,   1.]])"
      ]
     },
     "execution_count": 52,
     "metadata": {},
     "output_type": "execute_result"
    }
   ],
   "source": [
    "# La matriz A =\n",
    "A = [\n",
    "    [4, 4, 5, 1],\n",
    "    [3, 4, 2, 2],\n",
    "    [2, 1, 4, 1],\n",
    "    [3, 2, 5, 4],\n",
    "]\n",
    "# tiene como inversa\n",
    "# A_inv =[[-34.,  31.,  52., -20.],\n",
    "#         [ 19., -17., -29.,  11.],\n",
    "#         [ 12., -11., -18.,   7.],\n",
    "#         [  1.,  -1.,  -2.,   1.]]\n",
    "inv_matrix(A)"
   ]
  },
  {
   "cell_type": "markdown",
   "metadata": {},
   "source": [
    "## Ejercicios"
   ]
  },
  {
   "cell_type": "markdown",
   "metadata": {},
   "source": [
    "* Ejercicio 1"
   ]
  },
  {
   "cell_type": "code",
   "execution_count": 53,
   "metadata": {},
   "outputs": [
    {
     "data": {
      "text/plain": [
       "array([[-1., -3.],\n",
       "       [-1., -2.]])"
      ]
     },
     "execution_count": 53,
     "metadata": {},
     "output_type": "execute_result"
    }
   ],
   "source": [
    "A = [[2, -3], [-1, 1]]\n",
    "inv_matrix(A)"
   ]
  },
  {
   "cell_type": "markdown",
   "metadata": {},
   "source": [
    "* Ejercicio 2"
   ]
  },
  {
   "cell_type": "code",
   "execution_count": 54,
   "metadata": {},
   "outputs": [
    {
     "data": {
      "text/plain": [
       "array([[-36.,  45.,  60., -80.],\n",
       "       [  3.,  -4.,  -5.,   7.],\n",
       "       [  9., -11., -15.,  20.],\n",
       "       [ 29., -36., -48.,  64.]])"
      ]
     },
     "execution_count": 54,
     "metadata": {},
     "output_type": "execute_result"
    }
   ],
   "source": [
    "A = [\n",
    "    [4, 0, 0, 5],\n",
    "    [1, 0, 4, 0],\n",
    "    [3, 4, 1, 3],\n",
    "    [1, 3, 3, 0],\n",
    "]\n",
    "inv_matrix(A)"
   ]
  },
  {
   "cell_type": "markdown",
   "metadata": {},
   "source": [
    "* Ejercicio 3"
   ]
  },
  {
   "cell_type": "code",
   "execution_count": 55,
   "metadata": {},
   "outputs": [
    {
     "data": {
      "text/plain": [
       "array([[ 2., -1.,  0., -1.,  0.,  2.,  2., -1.],\n",
       "       [ 0.,  1.,  1., -1.,  0.,  0.,  0.,  0.],\n",
       "       [ 6., -1.,  0., -3.,  1.,  1.,  4., -3.],\n",
       "       [ 6.,  1., -1., -3.,  1., -3.,  3., -3.],\n",
       "       [ 2., -1.,  1., -1.,  0.,  3.,  2., -1.],\n",
       "       [-2.,  2., -0.,  0., -0., -4., -2.,  1.],\n",
       "       [-1., -0., -0.,  1., -0., -0., -1.,  1.],\n",
       "       [-2., -0., -0.,  1., -0., -0., -1.,  1.]])"
      ]
     },
     "execution_count": 55,
     "metadata": {},
     "output_type": "execute_result"
    }
   ],
   "source": [
    "A = [\n",
    "    [0, 0, 0, 0, 0, 0, 1, -1],\n",
    "    [0, 1, -1, 1, 0, -1, 0, 1],\n",
    "    [-1, -1, 0, 0, 2, 1, 0, 0],\n",
    "    [-1, -1, -1, 1, 2, 0, 0, 1],\n",
    "    [-1, 1, 1, 0, -1, -1, 0, 2],\n",
    "    [0, 1, 0, 0, -1, -1, 0, 0],\n",
    "    [1, -1, -1, 1, 2, 1, 0, 2],\n",
    "    [2, 0, 0, 0, 0, 1, 2, 0],\n",
    "]\n",
    "inv_matrix(A)"
   ]
  },
  {
   "cell_type": "markdown",
   "metadata": {},
   "source": [
    "* Ejercicio 4"
   ]
  },
  {
   "cell_type": "code",
   "execution_count": 56,
   "metadata": {},
   "outputs": [
    {
     "data": {
      "text/plain": [
       "array([[ 14.,  -8.,   9.,  -4.,   0.,  -4.,   9.,   7.,  -8.,   3.],\n",
       "       [ -2.,   2.,  -1.,   2.,   1.,   1.,  -1.,  -1.,   1.,  -2.],\n",
       "       [-27.,  14., -18.,   5.,  -2.,   7., -17., -13.,  16.,  -2.],\n",
       "       [ 12.,  -6.,   8.,  -2.,   1.,  -3.,   7.,   6.,  -7.,   0.],\n",
       "       [  6.,  -4.,   4.,  -2.,   0.,  -2.,   4.,   3.,  -3.,   2.],\n",
       "       [ 18.,  -9.,  12.,  -4.,   1.,  -5.,  11.,   9., -11.,   1.],\n",
       "       [  8.,  -4.,   5.,  -1.,   1.,  -2.,   5.,   4.,  -5.,   0.],\n",
       "       [ -5.,   2.,  -3.,   0.,  -1.,   1.,  -3.,  -2.,   3.,   1.],\n",
       "       [-11.,   5.,  -7.,   1.,  -2.,   2.,  -7.,  -5.,   7.,   1.],\n",
       "       [  1.,  -1.,   1.,  -1.,  -1.,  -1.,   1.,   1.,  -1.,   1.]])"
      ]
     },
     "execution_count": 56,
     "metadata": {},
     "output_type": "execute_result"
    }
   ],
   "source": [
    "A = [\n",
    "    [1, 0, 0, 0, -1, 0, 0, -1, 1, -1],\n",
    "    [1, 1, 0, -1, -1, 1, 0, 0, 1, -1],\n",
    "    [-1, 0, -1, 0, 0, 0, -1, 1, 0, 0],\n",
    "    [0, 0, -1, 0, -1, -1, 1, 0, 1, 0],\n",
    "    [-1, 0, 0, -1, 1, 1, 1, 1, 0, -1],\n",
    "    [1, 0, 0, 1, -1, -1, -1, 1, -1, 0],\n",
    "    [1, 1, 1, 0, 1, 0, -1, -1, -1, 1],\n",
    "    [1, 1, 1, 1, 0, 0, 1, 1, 0, 0],\n",
    "    [1, 1, 1, 1, 1, 0, -1, -1, 0, 0],\n",
    "    [0, 0, -1, -1, -1, 0, 1, 1, 1, -1],\n",
    "]\n",
    "inv_matrix(A)"
   ]
  }
 ],
 "metadata": {
  "kernelspec": {
   "display_name": "Python 3",
   "language": "python",
   "name": "python3"
  },
  "language_info": {
   "codemirror_mode": {
    "name": "ipython",
    "version": 3
   },
   "file_extension": ".py",
   "mimetype": "text/x-python",
   "name": "python",
   "nbconvert_exporter": "python",
   "pygments_lexer": "ipython3",
   "version": "3.11.9"
  }
 },
 "nbformat": 4,
 "nbformat_minor": 2
}
